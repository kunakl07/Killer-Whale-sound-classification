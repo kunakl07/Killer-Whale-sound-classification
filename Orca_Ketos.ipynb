{
  "nbformat": 4,
  "nbformat_minor": 0,
  "metadata": {
    "colab": {
      "name": "Orca-Ketos.ipynb",
      "provenance": [],
      "toc_visible": true,
      "authorship_tag": "ABX9TyNMWKJDtFrXhBml251lihCY",
      "include_colab_link": true
    },
    "kernelspec": {
      "name": "python3",
      "display_name": "Python 3"
    },
    "accelerator": "GPU"
  },
  "cells": [
    {
      "cell_type": "markdown",
      "metadata": {
        "id": "view-in-github",
        "colab_type": "text"
      },
      "source": [
        "<a href=\"https://colab.research.google.com/github/kunakl07/Killer-Whale-sound-classification/blob/master/Orca_Ketos.ipynb\" target=\"_parent\"><img src=\"https://colab.research.google.com/assets/colab-badge.svg\" alt=\"Open In Colab\"/></a>"
      ]
    },
    {
      "cell_type": "code",
      "metadata": {
        "id": "UE2p5MPAz4Ew",
        "colab_type": "code",
        "outputId": "69cec819-4820-4178-fcf3-ff5c454ef7cb",
        "colab": {
          "base_uri": "https://localhost:8080/",
          "height": 1000
        }
      },
      "source": [
        "!pip install ketos"
      ],
      "execution_count": 0,
      "outputs": [
        {
          "output_type": "stream",
          "text": [
            "Collecting ketos\n",
            "\u001b[?25l  Downloading https://files.pythonhosted.org/packages/39/31/9d9148618f621ebd350517afe431d7bb335b7bbd3a5b08fe7d53467f8a33/ketos-1.1.5.tar.gz (126kB)\n",
            "\u001b[K     |████████████████████████████████| 133kB 2.7MB/s \n",
            "\u001b[?25hRequirement already satisfied: numpy in /usr/local/lib/python3.6/dist-packages (from ketos) (1.17.5)\n",
            "Requirement already satisfied: tables in /usr/local/lib/python3.6/dist-packages (from ketos) (3.4.4)\n",
            "Requirement already satisfied: scipy in /usr/local/lib/python3.6/dist-packages (from ketos) (1.4.1)\n",
            "Requirement already satisfied: pandas in /usr/local/lib/python3.6/dist-packages (from ketos) (0.25.3)\n",
            "Collecting tensorflow==1.12.0\n",
            "\u001b[?25l  Downloading https://files.pythonhosted.org/packages/22/cc/ca70b78087015d21c5f3f93694107f34ebccb3be9624385a911d4b52ecef/tensorflow-1.12.0-cp36-cp36m-manylinux1_x86_64.whl (83.1MB)\n",
            "\u001b[K     |████████████████████████████████| 83.1MB 37kB/s \n",
            "\u001b[?25hRequirement already satisfied: scikit-learn in /usr/local/lib/python3.6/dist-packages (from ketos) (0.22.1)\n",
            "Requirement already satisfied: scikit-image in /usr/local/lib/python3.6/dist-packages (from ketos) (0.16.2)\n",
            "Requirement already satisfied: librosa in /usr/local/lib/python3.6/dist-packages (from ketos) (0.6.3)\n",
            "Collecting datetime_glob\n",
            "  Downloading https://files.pythonhosted.org/packages/ac/97/59f581d4a3c4af2f3348ad2b4e16e3168bc9537afd3e9f00d43a45cbdf24/datetime-glob-1.0.7.tar.gz\n",
            "Requirement already satisfied: matplotlib in /usr/local/lib/python3.6/dist-packages (from ketos) (3.1.3)\n",
            "Requirement already satisfied: tqdm in /usr/local/lib/python3.6/dist-packages (from ketos) (4.28.1)\n",
            "Collecting pint\n",
            "\u001b[?25l  Downloading https://files.pythonhosted.org/packages/9d/db/7a2204b03c22069839958df5723eb2718d50c33052e0da84c9a83de14ea4/Pint-0.11-py2.py3-none-any.whl (186kB)\n",
            "\u001b[K     |████████████████████████████████| 194kB 39.0MB/s \n",
            "\u001b[?25hRequirement already satisfied: psutil in /usr/local/lib/python3.6/dist-packages (from ketos) (5.4.8)\n",
            "Requirement already satisfied: six>=1.9.0 in /usr/local/lib/python3.6/dist-packages (from tables->ketos) (1.12.0)\n",
            "Requirement already satisfied: numexpr>=2.5.2 in /usr/local/lib/python3.6/dist-packages (from tables->ketos) (2.7.1)\n",
            "Requirement already satisfied: pytz>=2017.2 in /usr/local/lib/python3.6/dist-packages (from pandas->ketos) (2018.9)\n",
            "Requirement already satisfied: python-dateutil>=2.6.1 in /usr/local/lib/python3.6/dist-packages (from pandas->ketos) (2.6.1)\n",
            "Requirement already satisfied: termcolor>=1.1.0 in /usr/local/lib/python3.6/dist-packages (from tensorflow==1.12.0->ketos) (1.1.0)\n",
            "Requirement already satisfied: keras-preprocessing>=1.0.5 in /usr/local/lib/python3.6/dist-packages (from tensorflow==1.12.0->ketos) (1.1.0)\n",
            "Requirement already satisfied: keras-applications>=1.0.6 in /usr/local/lib/python3.6/dist-packages (from tensorflow==1.12.0->ketos) (1.0.8)\n",
            "Requirement already satisfied: wheel>=0.26 in /usr/local/lib/python3.6/dist-packages (from tensorflow==1.12.0->ketos) (0.34.2)\n",
            "Requirement already satisfied: astor>=0.6.0 in /usr/local/lib/python3.6/dist-packages (from tensorflow==1.12.0->ketos) (0.8.1)\n",
            "Requirement already satisfied: protobuf>=3.6.1 in /usr/local/lib/python3.6/dist-packages (from tensorflow==1.12.0->ketos) (3.10.0)\n",
            "Requirement already satisfied: gast>=0.2.0 in /usr/local/lib/python3.6/dist-packages (from tensorflow==1.12.0->ketos) (0.2.2)\n",
            "Requirement already satisfied: absl-py>=0.1.6 in /usr/local/lib/python3.6/dist-packages (from tensorflow==1.12.0->ketos) (0.9.0)\n",
            "Requirement already satisfied: grpcio>=1.8.6 in /usr/local/lib/python3.6/dist-packages (from tensorflow==1.12.0->ketos) (1.27.1)\n",
            "Collecting tensorboard<1.13.0,>=1.12.0\n",
            "\u001b[?25l  Downloading https://files.pythonhosted.org/packages/07/53/8d32ce9471c18f8d99028b7cef2e5b39ea8765bd7ef250ca05b490880971/tensorboard-1.12.2-py3-none-any.whl (3.0MB)\n",
            "\u001b[K     |████████████████████████████████| 3.1MB 45.0MB/s \n",
            "\u001b[?25hRequirement already satisfied: joblib>=0.11 in /usr/local/lib/python3.6/dist-packages (from scikit-learn->ketos) (0.14.1)\n",
            "Requirement already satisfied: networkx>=2.0 in /usr/local/lib/python3.6/dist-packages (from scikit-image->ketos) (2.4)\n",
            "Requirement already satisfied: PyWavelets>=0.4.0 in /usr/local/lib/python3.6/dist-packages (from scikit-image->ketos) (1.1.1)\n",
            "Requirement already satisfied: imageio>=2.3.0 in /usr/local/lib/python3.6/dist-packages (from scikit-image->ketos) (2.4.1)\n",
            "Requirement already satisfied: pillow>=4.3.0 in /usr/local/lib/python3.6/dist-packages (from scikit-image->ketos) (6.2.2)\n",
            "Requirement already satisfied: audioread>=2.0.0 in /usr/local/lib/python3.6/dist-packages (from librosa->ketos) (2.1.8)\n",
            "Requirement already satisfied: decorator>=3.0.0 in /usr/local/lib/python3.6/dist-packages (from librosa->ketos) (4.4.1)\n",
            "Requirement already satisfied: numba>=0.38.0 in /usr/local/lib/python3.6/dist-packages (from librosa->ketos) (0.47.0)\n",
            "Requirement already satisfied: resampy>=0.2.0 in /usr/local/lib/python3.6/dist-packages (from librosa->ketos) (0.2.2)\n",
            "Collecting lexery>=1.0.0\n",
            "  Downloading https://files.pythonhosted.org/packages/96/88/5bc1a8dfaa0bdcfdd3e3150f78f7f8384b0e65ac8a78c8d1f40d2fad6518/lexery-1.1.0.tar.gz\n",
            "Requirement already satisfied: cycler>=0.10 in /usr/local/lib/python3.6/dist-packages (from matplotlib->ketos) (0.10.0)\n",
            "Requirement already satisfied: kiwisolver>=1.0.1 in /usr/local/lib/python3.6/dist-packages (from matplotlib->ketos) (1.1.0)\n",
            "Requirement already satisfied: pyparsing!=2.0.4,!=2.1.2,!=2.1.6,>=2.0.1 in /usr/local/lib/python3.6/dist-packages (from matplotlib->ketos) (2.4.6)\n",
            "Requirement already satisfied: setuptools in /usr/local/lib/python3.6/dist-packages (from pint->ketos) (45.2.0)\n",
            "Requirement already satisfied: h5py in /usr/local/lib/python3.6/dist-packages (from keras-applications>=1.0.6->tensorflow==1.12.0->ketos) (2.8.0)\n",
            "Requirement already satisfied: werkzeug>=0.11.10 in /usr/local/lib/python3.6/dist-packages (from tensorboard<1.13.0,>=1.12.0->tensorflow==1.12.0->ketos) (1.0.0)\n",
            "Requirement already satisfied: markdown>=2.6.8 in /usr/local/lib/python3.6/dist-packages (from tensorboard<1.13.0,>=1.12.0->tensorflow==1.12.0->ketos) (3.2.1)\n",
            "Requirement already satisfied: llvmlite>=0.31.0dev0 in /usr/local/lib/python3.6/dist-packages (from numba>=0.38.0->librosa->ketos) (0.31.0)\n",
            "Building wheels for collected packages: ketos, datetime-glob, lexery\n",
            "  Building wheel for ketos (setup.py) ... \u001b[?25l\u001b[?25hdone\n",
            "  Created wheel for ketos: filename=ketos-1.1.5-cp36-none-any.whl size=153152 sha256=8df4590655ebd726bd85e14105ee89854ca38b5e0b988a98102a5234e7337605\n",
            "  Stored in directory: /root/.cache/pip/wheels/bd/e2/d3/4286f2bba03f33d40e03a12fa6f2b45bd56ddea29ffd8a21a7\n",
            "  Building wheel for datetime-glob (setup.py) ... \u001b[?25l\u001b[?25hdone\n",
            "  Created wheel for datetime-glob: filename=datetime_glob-1.0.7-cp36-none-any.whl size=7389 sha256=87ada0ca317a37ec4db0bcc44e279960430edb5f392cd499e8bbd895fb61f1d2\n",
            "  Stored in directory: /root/.cache/pip/wheels/0f/86/c9/de310d166ddb2d6a52628685544c48fd5a167a3ac3dd441809\n",
            "  Building wheel for lexery (setup.py) ... \u001b[?25l\u001b[?25hdone\n",
            "  Created wheel for lexery: filename=lexery-1.1.0-cp36-none-any.whl size=4784 sha256=56a3bc895ca1aa84ef7ddf0015bf75598c3c2274bab5a49d9804ba7cdcd6c055\n",
            "  Stored in directory: /root/.cache/pip/wheels/d9/b2/4c/98478b361964b88b670d838a1c764ceae57842941e311bb059\n",
            "Successfully built ketos datetime-glob lexery\n",
            "Installing collected packages: tensorboard, tensorflow, lexery, datetime-glob, pint, ketos\n",
            "  Found existing installation: tensorboard 1.15.0\n",
            "    Uninstalling tensorboard-1.15.0:\n",
            "      Successfully uninstalled tensorboard-1.15.0\n",
            "  Found existing installation: tensorflow 1.15.0\n",
            "    Uninstalling tensorflow-1.15.0:\n",
            "      Successfully uninstalled tensorflow-1.15.0\n",
            "Successfully installed datetime-glob-1.0.7 ketos-1.1.5 lexery-1.1.0 pint-0.11 tensorboard-1.12.2 tensorflow-1.12.0\n"
          ],
          "name": "stdout"
        }
      ]
    },
    {
      "cell_type": "code",
      "metadata": {
        "id": "fXPct9YfzX8l",
        "colab_type": "code",
        "outputId": "a766067e-edd5-4604-fe2d-8d033344684d",
        "colab": {
          "base_uri": "https://localhost:8080/",
          "height": 296
        }
      },
      "source": [
        "from ketos.neural_networks.cnn import BasicCNN, ConvParams\n",
        "from ketos.data_handling.database_interface import open_table, parse_labels\n",
        "from ketos.data_handling.data_feeding import BatchGenerator\n",
        "from ketos.data_handling.data_handling import to1hot\n",
        "from tables import open_file\n",
        "import numpy as np\n",
        "import matplotlib.pyplot as plt\n",
        "\n",
        "%matplotlib inline"
      ],
      "execution_count": 0,
      "outputs": [
        {
          "output_type": "stream",
          "text": [
            "/usr/local/lib/python3.6/dist-packages/tensorflow/python/framework/dtypes.py:523: FutureWarning: Passing (type, 1) or '1type' as a synonym of type is deprecated; in a future version of numpy, it will be understood as (type, (1,)) / '(1,)type'.\n",
            "  _np_qint8 = np.dtype([(\"qint8\", np.int8, 1)])\n",
            "/usr/local/lib/python3.6/dist-packages/tensorflow/python/framework/dtypes.py:524: FutureWarning: Passing (type, 1) or '1type' as a synonym of type is deprecated; in a future version of numpy, it will be understood as (type, (1,)) / '(1,)type'.\n",
            "  _np_quint8 = np.dtype([(\"quint8\", np.uint8, 1)])\n",
            "/usr/local/lib/python3.6/dist-packages/tensorflow/python/framework/dtypes.py:525: FutureWarning: Passing (type, 1) or '1type' as a synonym of type is deprecated; in a future version of numpy, it will be understood as (type, (1,)) / '(1,)type'.\n",
            "  _np_qint16 = np.dtype([(\"qint16\", np.int16, 1)])\n",
            "/usr/local/lib/python3.6/dist-packages/tensorflow/python/framework/dtypes.py:526: FutureWarning: Passing (type, 1) or '1type' as a synonym of type is deprecated; in a future version of numpy, it will be understood as (type, (1,)) / '(1,)type'.\n",
            "  _np_quint16 = np.dtype([(\"quint16\", np.uint16, 1)])\n",
            "/usr/local/lib/python3.6/dist-packages/tensorflow/python/framework/dtypes.py:527: FutureWarning: Passing (type, 1) or '1type' as a synonym of type is deprecated; in a future version of numpy, it will be understood as (type, (1,)) / '(1,)type'.\n",
            "  _np_qint32 = np.dtype([(\"qint32\", np.int32, 1)])\n",
            "/usr/local/lib/python3.6/dist-packages/tensorflow/python/framework/dtypes.py:532: FutureWarning: Passing (type, 1) or '1type' as a synonym of type is deprecated; in a future version of numpy, it will be understood as (type, (1,)) / '(1,)type'.\n",
            "  np_resource = np.dtype([(\"resource\", np.ubyte, 1)])\n"
          ],
          "name": "stderr"
        },
        {
          "output_type": "display_data",
          "data": {
            "text/html": [
              "<p style=\"color: red;\">\n",
              "The default version of TensorFlow in Colab will soon switch to TensorFlow 2.x.<br>\n",
              "We recommend you <a href=\"https://www.tensorflow.org/guide/migrate\" target=\"_blank\">upgrade</a> now \n",
              "or ensure your notebook will continue to use TensorFlow 1.x via the <code>%tensorflow_version 1.x</code> magic:\n",
              "<a href=\"https://colab.research.google.com/notebooks/tensorflow_version.ipynb\" target=\"_blank\">more info</a>.</p>\n"
            ],
            "text/plain": [
              "<IPython.core.display.HTML object>"
            ]
          },
          "metadata": {
            "tags": []
          }
        }
      ]
    },
    {
      "cell_type": "code",
      "metadata": {
        "id": "Ll4ie4CTzipr",
        "colab_type": "code",
        "colab": {}
      },
      "source": [
        "# Open a connection to the database\n",
        "database = open_file(\"/content/humpback.h5\", 'r')\n",
        "\n",
        "# Open the training dateset\n",
        "train_tbl = open_table(database, \"/train/mel_specs\" )\n",
        "# Open the validation dateset\n",
        "val_tbl = open_table(database, \"/validation/mel_specs\" )\n",
        "# Open the test dateset\n",
        "test_tbl = open_table(database, \"/test/mel_specs\")"
      ],
      "execution_count": 0,
      "outputs": []
    },
    {
      "cell_type": "code",
      "metadata": {
        "id": "Mhcsj_7w1DTd",
        "colab_type": "code",
        "outputId": "e19d5ee2-3ae5-4daf-91fe-f1b7aab221f3",
        "colab": {
          "base_uri": "https://localhost:8080/",
          "height": 70
        }
      },
      "source": [
        "print(\"training:\", len(train_tbl), \"\\nvalidation:\", len(val_tbl), \"\\ntest:\", len(test_tbl))\n"
      ],
      "execution_count": 0,
      "outputs": [
        {
          "output_type": "stream",
          "text": [
            "training: 1198 \n",
            "validation: 200 \n",
            "test: 467\n"
          ],
          "name": "stdout"
        }
      ]
    },
    {
      "cell_type": "code",
      "metadata": {
        "id": "lPXCrk_G1EvW",
        "colab_type": "code",
        "outputId": "79abb89a-f533-4853-f8a1-1e35af6c117c",
        "colab": {
          "base_uri": "https://localhost:8080/",
          "height": 34
        }
      },
      "source": [
        "entry_1 = train_tbl[0]  #Select the first entry from the training dataset\n",
        "print(entry_1['labels']) # Retrieve and print the label"
      ],
      "execution_count": 0,
      "outputs": [
        {
          "output_type": "stream",
          "text": [
            "b'[0]'\n"
          ],
          "name": "stdout"
        }
      ]
    },
    {
      "cell_type": "code",
      "metadata": {
        "id": "UT8O1Rsj1OtY",
        "colab_type": "code",
        "outputId": "64bb4570-539a-44b2-ff43-48f1be779940",
        "colab": {
          "base_uri": "https://localhost:8080/",
          "height": 34
        }
      },
      "source": [
        "entry_1['data'].shape\n"
      ],
      "execution_count": 0,
      "outputs": [
        {
          "output_type": "execute_result",
          "data": {
            "text/plain": [
              "(65, 20)"
            ]
          },
          "metadata": {
            "tags": []
          },
          "execution_count": 8
        }
      ]
    },
    {
      "cell_type": "code",
      "metadata": {
        "id": "88hIRQ8G1RnI",
        "colab_type": "code",
        "outputId": "d3fa6932-c12c-4871-d4a4-092543945f91",
        "colab": {
          "base_uri": "https://localhost:8080/",
          "height": 198
        }
      },
      "source": [
        "# Plot the data (spectrogram). \n",
        "# Transpose the matrix to have a more intuitive plot,\n",
        "# with time in the x axis and frequency is in the y axis\n",
        "plt.imshow(entry_1['data'].T, origin=0)\n",
        "plt.title(\"Mel spectrogram of background noise\")\n",
        "plt.ylabel(\"Mel freq bands\")\n",
        "plt.xlabel(\"Time bins ( ~30 ms/bin)\")"
      ],
      "execution_count": 0,
      "outputs": [
        {
          "output_type": "execute_result",
          "data": {
            "text/plain": [
              "Text(0.5, 0, 'Time bins ( ~30 ms/bin)')"
            ]
          },
          "metadata": {
            "tags": []
          },
          "execution_count": 9
        },
        {
          "output_type": "display_data",
          "data": {
            "image/png": "[encoded data removed]",
            "text/plain": [
              "<Figure size 432x288 with 1 Axes>"
            ]
          },
          "metadata": {
            "tags": []
          }
        }
      ]
    },
    {
      "cell_type": "code",
      "metadata": {
        "id": "OW8hDSf01aDW",
        "colab_type": "code",
        "outputId": "512bd379-7105-453e-bfc2-a46f1892f8ff",
        "colab": {
          "base_uri": "https://localhost:8080/",
          "height": 34
        }
      },
      "source": [
        "entry_2 = train_tbl[1]  #Select the second entry from the training dataset\n",
        "print(entry_2['labels']) # Retrieve and print the label"
      ],
      "execution_count": 0,
      "outputs": [
        {
          "output_type": "stream",
          "text": [
            "b'[1]'\n"
          ],
          "name": "stdout"
        }
      ]
    },
    {
      "cell_type": "code",
      "metadata": {
        "id": "0YbsaJDX1f1h",
        "colab_type": "code",
        "outputId": "13abd8df-12c6-428f-fa49-8be4f5eb8155",
        "colab": {
          "base_uri": "https://localhost:8080/",
          "height": 198
        }
      },
      "source": [
        "# Plot the data (spectrogram). \n",
        "# Transpose the matrix to have a more intuitive plot,\n",
        "# with time in the x axis and frequency is in the y axis\n",
        "plt.imshow(entry_2['data'].T, origin=0)\n",
        "plt.title(\"Mel spectrogram of whale call\")\n",
        "plt.ylabel(\"Mel freq bands\")\n",
        "plt.xlabel(\"Time bins ( ~30 ms/bin)\")"
      ],
      "execution_count": 0,
      "outputs": [
        {
          "output_type": "execute_result",
          "data": {
            "text/plain": [
              "Text(0.5, 0, 'Time bins ( ~30 ms/bin)')"
            ]
          },
          "metadata": {
            "tags": []
          },
          "execution_count": 11
        },
        {
          "output_type": "display_data",
          "data": {
            "image/png": "[encoded data removed]",
            "text/plain": [
              "<Figure size 432x288 with 1 Axes>"
            ]
          },
          "metadata": {
            "tags": []
          }
        }
      ]
    },
    {
      "cell_type": "code",
      "metadata": {
        "id": "l45ODZrr1jTW",
        "colab_type": "code",
        "colab": {}
      },
      "source": [
        "def parse_y(y):\n",
        "    \"\"\" Parse an array of labels from byte string to one-hot encoding\n",
        "    \n",
        "        Args:\n",
        "            y: numpy.array\n",
        "                An array of labels in the the b'[1]' format.\n",
        "        Returns:\n",
        "            labels: numpy.array\n",
        "                An array of labels encoded as one-hot vectors\n",
        "    \n",
        "    \"\"\"\n",
        "    labels=list(map(lambda l: to1hot(parse_labels(l)[0], depth=2), y ))\n",
        "    return np.array(labels)\n"
      ],
      "execution_count": 0,
      "outputs": []
    },
    {
      "cell_type": "code",
      "metadata": {
        "id": "CoL-0fkB4FPK",
        "colab_type": "code",
        "colab": {}
      },
      "source": [
        "train_x = train_tbl[:]['data']\n",
        "train_y = parse_y(train_tbl[:]['labels'])\n",
        "val_x = val_tbl[:]['data']\n",
        "val_y = parse_y(val_tbl[:]['labels'])\n",
        "test_x = test_tbl[:]['data']\n",
        "test_y = parse_y(test_tbl[:]['labels'])"
      ],
      "execution_count": 0,
      "outputs": []
    },
    {
      "cell_type": "code",
      "metadata": {
        "id": "L6MD7_zc4L6_",
        "colab_type": "code",
        "outputId": "651efbd6-2d1d-494e-b11f-abd54bf265f3",
        "colab": {
          "base_uri": "https://localhost:8080/",
          "height": 105
        }
      },
      "source": [
        "test_y[0:5] # shows the first 5 one-hot vectors\n"
      ],
      "execution_count": 0,
      "outputs": [
        {
          "output_type": "execute_result",
          "data": {
            "text/plain": [
              "array([[1., 0.],\n",
              "       [1., 0.],\n",
              "       [1., 0.],\n",
              "       [1., 0.],\n",
              "       [0., 1.]])"
            ]
          },
          "metadata": {
            "tags": []
          },
          "execution_count": 14
        }
      ]
    },
    {
      "cell_type": "code",
      "metadata": {
        "id": "Y_Rp-kx94PN7",
        "colab_type": "code",
        "outputId": "91351fa5-bcdc-4b40-b8e5-511c37e947d6",
        "colab": {
          "base_uri": "https://localhost:8080/",
          "height": 445
        }
      },
      "source": [
        "neural_net = BasicCNN(train_x=train_x, train_y=train_y, validation_x=val_x,validation_y=val_y,\n",
        "            test_x=test_x,test_y=test_y,batch_size=128, seed=567, \n",
        "            num_epochs=10)\n",
        "\n",
        "_ = neural_net.create()"
      ],
      "execution_count": 0,
      "outputs": [
        {
          "output_type": "stream",
          "text": [
            "WARNING:tensorflow:From /usr/local/lib/python3.6/dist-packages/ketos/neural_networks/cnn.py:414: softmax_cross_entropy_with_logits (from tensorflow.python.ops.nn_ops) is deprecated and will be removed in a future version.\n",
            "Instructions for updating:\n",
            "\n",
            "Future major versions of TensorFlow will allow gradients to flow\n",
            "into the labels input on backprop by default.\n",
            "\n",
            "See `tf.nn.softmax_cross_entropy_with_logits_v2`.\n",
            "\n",
            "======================================================\n",
            "                   Convolutional layers               \n",
            "------------------------------------------------------\n",
            "  Name   Input x Filters   Filter Shape   Output dim. \n",
            "------------------------------------------------------\n",
            "  conv_1       1 x 32          [2,8]         10560\n",
            "  conv_2       32 x 64          [30,8]         5440\n",
            "======================================================\n",
            "                  Fully connected layers              \n",
            "------------------------------------------------------\n",
            "  Name       Size                                      \n",
            "------------------------------------------------------\n",
            "  dense_1    512\n",
            "  class_weights    2\n",
            "======================================================\n"
          ],
          "name": "stdout"
        }
      ]
    },
    {
      "cell_type": "code",
      "metadata": {
        "id": "GLCib_Oj4Upx",
        "colab_type": "code",
        "outputId": "64d0bb8f-038f-4a93-81ff-ca1479bf231d",
        "colab": {
          "base_uri": "https://localhost:8080/",
          "height": 496
        }
      },
      "source": [
        "neural_net.train()\n"
      ],
      "execution_count": 0,
      "outputs": [
        {
          "output_type": "stream",
          "text": [
            "\n",
            "Training  started\n",
            "\n",
            "Epoch  Cost  Train acc.  Val acc.\n",
            "----------------------------------\n",
            " 1/10  14837.460  0.586  0.630\n",
            " 2/10  0.673  0.655  0.630\n",
            " 3/10  0.843  0.667  0.630\n",
            " 4/10  0.648  0.655  0.630\n",
            " 5/10  0.645  0.655  0.630\n",
            " 6/10  0.645  0.655  0.630\n",
            " 7/10  0.645  0.655  0.630\n",
            " 8/10  0.645  0.655  0.630\n",
            " 9/10  0.645  0.655  0.630\n",
            " 10/10  0.645  0.655  0.630\n",
            "----------------------------------\n"
          ],
          "name": "stdout"
        },
        {
          "output_type": "execute_result",
          "data": {
            "text/plain": [
              "([0.5859375,\n",
              "  0.6553819444444444,\n",
              "  0.6666666666666667,\n",
              "  0.6553819444444444,\n",
              "  0.6545138888888891,\n",
              "  0.6545138888888891,\n",
              "  0.6545138888888891,\n",
              "  0.6545138888888891,\n",
              "  0.6545138888888891,\n",
              "  0.6545138888888891],\n",
              " [0.63, 0.63, 0.63, 0.63, 0.63, 0.63, 0.63, 0.63, 0.63, 0.63])"
            ]
          },
          "metadata": {
            "tags": []
          },
          "execution_count": 16
        }
      ]
    },
    {
      "cell_type": "code",
      "metadata": {
        "id": "LwjLz3-56sdZ",
        "colab_type": "code",
        "outputId": "dc517372-11d2-4cfa-f541-654b5f01b4dd",
        "colab": {
          "base_uri": "https://localhost:8080/",
          "height": 34
        }
      },
      "source": [
        "test_acc = neural_net.accuracy_on_test()\n",
        "print(\"Test_accuracy:\",test_acc)"
      ],
      "execution_count": 0,
      "outputs": [
        {
          "output_type": "stream",
          "text": [
            "Test_accuracy: 0.614561\n"
          ],
          "name": "stdout"
        }
      ]
    },
    {
      "cell_type": "code",
      "metadata": {
        "id": "bVKzznek60Hk",
        "colab_type": "code",
        "colab": {}
      },
      "source": [
        "report,mislabelled = neural_net.mislabelled_on_test(print_report=False)\n"
      ],
      "execution_count": 0,
      "outputs": []
    },
    {
      "cell_type": "code",
      "metadata": {
        "id": "GKGl9qAl65HX",
        "colab_type": "code",
        "outputId": "0eb28481-e997-4927-e8c0-c66a2f249eff",
        "colab": {
          "base_uri": "https://localhost:8080/"
        }
      },
      "source": [
        "report\n"
      ],
      "execution_count": 0,
      "outputs": [
        {
          "output_type": "execute_result",
          "data": {
            "text/html": [
              "<div>\n",
              "<style scoped>\n",
              "    .dataframe tbody tr th:only-of-type {\n",
              "        vertical-align: middle;\n",
              "    }\n",
              "\n",
              "    .dataframe tbody tr th {\n",
              "        vertical-align: top;\n",
              "    }\n",
              "\n",
              "    .dataframe thead th {\n",
              "        text-align: right;\n",
              "    }\n",
              "</style>\n",
              "<table border=\"1\" class=\"dataframe\">\n",
              "  <thead>\n",
              "    <tr style=\"text-align: right;\">\n",
              "      <th></th>\n",
              "      <th>correct</th>\n",
              "      <th>incorrect</th>\n",
              "      <th>%correct</th>\n",
              "      <th>%incorrect</th>\n",
              "      <th>total</th>\n",
              "    </tr>\n",
              "  </thead>\n",
              "  <tbody>\n",
              "    <tr>\n",
              "      <th>0</th>\n",
              "      <td>287</td>\n",
              "      <td>180</td>\n",
              "      <td>61.46</td>\n",
              "      <td>38.54</td>\n",
              "      <td>467</td>\n",
              "    </tr>\n",
              "  </tbody>\n",
              "</table>\n",
              "</div>"
            ],
            "text/plain": [
              "   correct  incorrect  %correct  %incorrect  total\n",
              "0      287        180     61.46       38.54    467"
            ]
          },
          "metadata": {
            "tags": []
          },
          "execution_count": 19
        }
      ]
    },
    {
      "cell_type": "code",
      "metadata": {
        "id": "PGSu6nHN671u",
        "colab_type": "code",
        "outputId": "af953624-560e-44f9-ceac-23586f575e0a",
        "colab": {
          "base_uri": "https://localhost:8080/"
        }
      },
      "source": [
        "mislabelled\n"
      ],
      "execution_count": 0,
      "outputs": [
        {
          "output_type": "execute_result",
          "data": {
            "text/html": [
              "<div>\n",
              "<style scoped>\n",
              "    .dataframe tbody tr th:only-of-type {\n",
              "        vertical-align: middle;\n",
              "    }\n",
              "\n",
              "    .dataframe tbody tr th {\n",
              "        vertical-align: top;\n",
              "    }\n",
              "\n",
              "    .dataframe thead th {\n",
              "        text-align: right;\n",
              "    }\n",
              "</style>\n",
              "<table border=\"1\" class=\"dataframe\">\n",
              "  <thead>\n",
              "    <tr style=\"text-align: right;\">\n",
              "      <th></th>\n",
              "      <th>label</th>\n",
              "      <th>pred</th>\n",
              "    </tr>\n",
              "  </thead>\n",
              "  <tbody>\n",
              "    <tr>\n",
              "      <th>4</th>\n",
              "      <td>1</td>\n",
              "      <td>0</td>\n",
              "    </tr>\n",
              "    <tr>\n",
              "      <th>6</th>\n",
              "      <td>1</td>\n",
              "      <td>0</td>\n",
              "    </tr>\n",
              "    <tr>\n",
              "      <th>8</th>\n",
              "      <td>1</td>\n",
              "      <td>0</td>\n",
              "    </tr>\n",
              "    <tr>\n",
              "      <th>11</th>\n",
              "      <td>1</td>\n",
              "      <td>0</td>\n",
              "    </tr>\n",
              "    <tr>\n",
              "      <th>14</th>\n",
              "      <td>1</td>\n",
              "      <td>0</td>\n",
              "    </tr>\n",
              "    <tr>\n",
              "      <th>...</th>\n",
              "      <td>...</td>\n",
              "      <td>...</td>\n",
              "    </tr>\n",
              "    <tr>\n",
              "      <th>456</th>\n",
              "      <td>1</td>\n",
              "      <td>0</td>\n",
              "    </tr>\n",
              "    <tr>\n",
              "      <th>457</th>\n",
              "      <td>1</td>\n",
              "      <td>0</td>\n",
              "    </tr>\n",
              "    <tr>\n",
              "      <th>458</th>\n",
              "      <td>1</td>\n",
              "      <td>0</td>\n",
              "    </tr>\n",
              "    <tr>\n",
              "      <th>461</th>\n",
              "      <td>1</td>\n",
              "      <td>0</td>\n",
              "    </tr>\n",
              "    <tr>\n",
              "      <th>466</th>\n",
              "      <td>1</td>\n",
              "      <td>0</td>\n",
              "    </tr>\n",
              "  </tbody>\n",
              "</table>\n",
              "<p>180 rows × 2 columns</p>\n",
              "</div>"
            ],
            "text/plain": [
              "     label  pred\n",
              "4        1     0\n",
              "6        1     0\n",
              "8        1     0\n",
              "11       1     0\n",
              "14       1     0\n",
              "..     ...   ...\n",
              "456      1     0\n",
              "457      1     0\n",
              "458      1     0\n",
              "461      1     0\n",
              "466      1     0\n",
              "\n",
              "[180 rows x 2 columns]"
            ]
          },
          "metadata": {
            "tags": []
          },
          "execution_count": 20
        }
      ]
    },
    {
      "cell_type": "code",
      "metadata": {
        "id": "MHITUYBh6-Nz",
        "colab_type": "code",
        "colab": {}
      },
      "source": [
        ""
      ],
      "execution_count": 0,
      "outputs": []
    },
    {
      "cell_type": "code",
      "metadata": {
        "id": "6J3jaLd47AzO",
        "colab_type": "code",
        "outputId": "44a41a41-9e85-4c84-dc04-9452bc678725",
        "colab": {
          "base_uri": "https://localhost:8080/",
          "height": 167
        }
      },
      "source": [
        ""
      ],
      "execution_count": 0,
      "outputs": [
        {
          "output_type": "error",
          "ename": "NameError",
          "evalue": "ignored",
          "traceback": [
            "\u001b[0;31m---------------------------------------------------------------------------\u001b[0m",
            "\u001b[0;31mNameError\u001b[0m                                 Traceback (most recent call last)",
            "\u001b[0;32m<ipython-input-1-fb8eaa950a1b>\u001b[0m in \u001b[0;36m<module>\u001b[0;34m()\u001b[0m\n\u001b[0;32m----> 1\u001b[0;31m \u001b[0mtensorflowjs\u001b[0m\u001b[0;34m\u001b[0m\u001b[0;34m\u001b[0m\u001b[0m\n\u001b[0m",
            "\u001b[0;31mNameError\u001b[0m: name 'tensorflowjs' is not defined"
          ]
        }
      ]
    },
    {
      "cell_type": "code",
      "metadata": {
        "id": "iE4bJBrLRSyC",
        "colab_type": "code",
        "colab": {}
      },
      "source": [
        ""
      ],
      "execution_count": 0,
      "outputs": []
    }
  ]
}